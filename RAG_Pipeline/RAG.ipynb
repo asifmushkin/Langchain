{
 "cells": [
  {
   "cell_type": "markdown",
   "metadata": {},
   "source": [
    "#### RAG Pipeline\n",
    "* load data (data ingestion)\n",
    "* transformation (data broken into smaller chunks)\n",
    "* embedding (chunks converted into vector)\n",
    "* storage(vector store in database, so we hit the querry and get the result)"
   ]
  },
  {
   "cell_type": "code",
   "execution_count": 1,
   "metadata": {},
   "outputs": [],
   "source": [
    "from langchain.document_loaders import pdf\n",
    "from langchain_text_splitters import RecursiveCharacterTextSplitter\n",
    "from langchain.llms import Ollama\n",
    "from langchain_community.embeddings import OllamaEmbeddings\n",
    "from langchain_community.vectorstores import FAISS\n",
    "from langchain_community.vectorstores import Chroma"
   ]
  },
  {
   "cell_type": "code",
   "execution_count": 2,
   "metadata": {},
   "outputs": [],
   "source": [
    "# pdf data is loading & Transform into chunks\n",
    "loader = pdf.PyPDFLoader(r\"D:\\_4.Docs\\Dcouments\\AsifKhan_Resume.pdf\")\n",
    "docs = loader.load()\n",
    "text_spliter = RecursiveCharacterTextSplitter(chunk_size = 1000, chunk_overlap = 200)\n",
    "documents  = text_spliter.split_documents(docs)"
   ]
  },
  {
   "cell_type": "code",
   "execution_count": 3,
   "metadata": {},
   "outputs": [],
   "source": [
    "# data converting into vector (ebedding) and vector store in chroma database\n",
    "db = Chroma.from_documents(documents,OllamaEmbeddings())"
   ]
  },
  {
   "cell_type": "code",
   "execution_count": 14,
   "metadata": {},
   "outputs": [
    {
     "data": {
      "text/plain": [
       "'Pakistan Telecommunication (Pvt)limited(PTCL) Karachi,Pakistan\\nGIS Technician Aug-2019–May-2020\\nThroughout the course duration, I have actively engaged in conducting surveys using Garmin 10x, establishing\\nGIS databases, generating unique identifiers for network elements, and analyzing maps to track wireless\\noutages and fiber cuts, as well as producing wire-line infrastructure maps.\\nKey roles and responsibilities . . . . . . . . . . . . . . . . . . . . . . . . . . . . . . . . . . . . . . . . . . . . . . . . . . . . . . . . . . . . . . . . . . . . . . . . . . . . . . . . . . . . . . .\\n○Mapping and creating unique codes (LICs) of all physical assets and network elements of PTCL, including\\nexchanges,OFC repeaters, DSLAM, Towers, BTS, optical fiber cable, etc\\n○Mapping and creating rings for transmission systems of Nokia, Huawei and ZTE.\\n○Collaborating with the development team to meet project deadlines and laying new footprint of network\\ncoverage.'"
      ]
     },
     "execution_count": 14,
     "metadata": {},
     "output_type": "execute_result"
    }
   ],
   "source": [
    "## Vector database\n",
    "question = \"can you tell me the highest qualification?\"\n",
    "result = db.similarity_search(question)\n",
    "result[0].page_content\n"
   ]
  },
  {
   "cell_type": "code",
   "execution_count": 16,
   "metadata": {},
   "outputs": [],
   "source": [
    "vectorstore = Chroma.from_documents(documents=documents , embedding=OllamaEmbeddings())\n",
    "retriever = vectorstore.as_retriever(search_type=\"similarity\", search_kwargs={\"k\": 6})"
   ]
  },
  {
   "cell_type": "code",
   "execution_count": 17,
   "metadata": {},
   "outputs": [],
   "source": [
    "retrieved_docs = retriever.invoke(\"can you tell me the highest qualification?\")"
   ]
  },
  {
   "cell_type": "code",
   "execution_count": 18,
   "metadata": {},
   "outputs": [
    {
     "data": {
      "text/plain": [
       "[Document(page_content='Pakistan Telecommunication (Pvt)limited(PTCL) Karachi,Pakistan\\nGIS Technician Aug-2019–May-2020\\nThroughout the course duration, I have actively engaged in conducting surveys using Garmin 10x, establishing\\nGIS databases, generating unique identifiers for network elements, and analyzing maps to track wireless\\noutages and fiber cuts, as well as producing wire-line infrastructure maps.\\nKey roles and responsibilities . . . . . . . . . . . . . . . . . . . . . . . . . . . . . . . . . . . . . . . . . . . . . . . . . . . . . . . . . . . . . . . . . . . . . . . . . . . . . . . . . . . . . . .\\n○Mapping and creating unique codes (LICs) of all physical assets and network elements of PTCL, including\\nexchanges,OFC repeaters, DSLAM, Towers, BTS, optical fiber cable, etc\\n○Mapping and creating rings for transmission systems of Nokia, Huawei and ZTE.\\n○Collaborating with the development team to meet project deadlines and laying new footprint of network\\ncoverage.', metadata={'page': 2, 'source': 'D:\\\\_4.Docs\\\\Dcouments\\\\AsifKhan_Resume.pdf'}),\n",
       " Document(page_content='Pakistan Telecommunication (Pvt)limited(PTCL) Karachi,Pakistan\\nGIS Technician Aug-2019–May-2020\\nThroughout the course duration, I have actively engaged in conducting surveys using Garmin 10x, establishing\\nGIS databases, generating unique identifiers for network elements, and analyzing maps to track wireless\\noutages and fiber cuts, as well as producing wire-line infrastructure maps.\\nKey roles and responsibilities . . . . . . . . . . . . . . . . . . . . . . . . . . . . . . . . . . . . . . . . . . . . . . . . . . . . . . . . . . . . . . . . . . . . . . . . . . . . . . . . . . . . . . .\\n○Mapping and creating unique codes (LICs) of all physical assets and network elements of PTCL, including\\nexchanges,OFC repeaters, DSLAM, Towers, BTS, optical fiber cable, etc\\n○Mapping and creating rings for transmission systems of Nokia, Huawei and ZTE.\\n○Collaborating with the development team to meet project deadlines and laying new footprint of network\\ncoverage.', metadata={'page': 2, 'source': 'D:\\\\_4.Docs\\\\Dcouments\\\\AsifKhan_Resume.pdf'}),\n",
       " Document(page_content='direction, sectioning, and section numbers are added using a Python script.\\n○Once the attributes and geometry have been populated and verified, the IRI, Rut, Roughness, and texture\\ntables, which were previously created, are then filled in for each 100-meter section of the road using\\npredefined templates.\\n○Distress data is received from engineering in MDB files, and these files are converted into feature class,\\nwhich is split into point distress feature class and line distress feature class.\\n○Line distress features are then divided onto pms sections if required and then recalculate quantities and\\nthen converted into point feature class and merge with existing point feature class to get final distress\\npoint feature class.\\n○Next step follows, distress integration into respective pms section.\\n○After distress integration the shapefile of this distress with pms file is move to paver software to calculate\\nPCI and deducted values and which are then populated into pms section.', metadata={'page': 1, 'source': 'D:\\\\_4.Docs\\\\Dcouments\\\\AsifKhan_Resume.pdf'}),\n",
       " Document(page_content='direction, sectioning, and section numbers are added using a Python script.\\n○Once the attributes and geometry have been populated and verified, the IRI, Rut, Roughness, and texture\\ntables, which were previously created, are then filled in for each 100-meter section of the road using\\npredefined templates.\\n○Distress data is received from engineering in MDB files, and these files are converted into feature class,\\nwhich is split into point distress feature class and line distress feature class.\\n○Line distress features are then divided onto pms sections if required and then recalculate quantities and\\nthen converted into point feature class and merge with existing point feature class to get final distress\\npoint feature class.\\n○Next step follows, distress integration into respective pms section.\\n○After distress integration the shapefile of this distress with pms file is move to paver software to calculate\\nPCI and deducted values and which are then populated into pms section.', metadata={'page': 1, 'source': 'D:\\\\_4.Docs\\\\Dcouments\\\\AsifKhan_Resume.pdf'}),\n",
       " Document(page_content='these skills to develop scripts and tools for process automation and customization. This includes\\nadeptly extracting and processing data from MDB, Excel workbook, PDF, CAD files, Text files\\nvarious other formats, attribute handling and managing, showcasing my expertise as a GIS specialist.\\nI have practical experience working of cutting edge technology i.e GenAI, utilizing OpenAI LLMs for\\ncustom application, Gemini multi-modal(processing, analysis, conversion of text, audio and video\\nformats), Ollama (open source multidmodal) and integrating of open source large Language Models\\n(LLMs) within the Langchain and LlamaIndex frameworks. Additionally, I leverage third-party\\nAPIs such as Hugging Face to craft robust solutions, google search engine api for real time data,\\nWikipedia api for extracting data, showcasing proficiency in cutting-edge technologies for advanced\\nGIS tasks.\\nTechnical Skills\\nProgramming skills : Python scripting, Feature Manipulation Engine(FME) for ETL,Model Builder', metadata={'page': 0, 'source': 'D:\\\\_4.Docs\\\\Dcouments\\\\AsifKhan_Resume.pdf'}),\n",
       " Document(page_content='these skills to develop scripts and tools for process automation and customization. This includes\\nadeptly extracting and processing data from MDB, Excel workbook, PDF, CAD files, Text files\\nvarious other formats, attribute handling and managing, showcasing my expertise as a GIS specialist.\\nI have practical experience working of cutting edge technology i.e GenAI, utilizing OpenAI LLMs for\\ncustom application, Gemini multi-modal(processing, analysis, conversion of text, audio and video\\nformats), Ollama (open source multidmodal) and integrating of open source large Language Models\\n(LLMs) within the Langchain and LlamaIndex frameworks. Additionally, I leverage third-party\\nAPIs such as Hugging Face to craft robust solutions, google search engine api for real time data,\\nWikipedia api for extracting data, showcasing proficiency in cutting-edge technologies for advanced\\nGIS tasks.\\nTechnical Skills\\nProgramming skills : Python scripting, Feature Manipulation Engine(FME) for ETL,Model Builder', metadata={'page': 0, 'source': 'D:\\\\_4.Docs\\\\Dcouments\\\\AsifKhan_Resume.pdf'})]"
      ]
     },
     "execution_count": 18,
     "metadata": {},
     "output_type": "execute_result"
    }
   ],
   "source": [
    "retrieved_docs"
   ]
  },
  {
   "cell_type": "code",
   "execution_count": 15,
   "metadata": {},
   "outputs": [],
   "source": [
    "llm = Ollama(model = \"llama3\",temperature=0.0)"
   ]
  },
  {
   "cell_type": "code",
   "execution_count": 7,
   "metadata": {},
   "outputs": [],
   "source": [
    "prompt = \"\"\" Please extract the following information from the given text and return it as JSON object.\n",
    "Total year of eperience:\n",
    "institute name:\n",
    "This is the body of description\n",
    "{docs}\"\"\"\n"
   ]
  },
  {
   "cell_type": "code",
   "execution_count": 8,
   "metadata": {},
   "outputs": [
    {
     "name": "stdout",
     "output_type": "stream",
     "text": [
      "Here is the extracted information in JSON format:\n",
      "\n",
      "```\n",
      "{\n",
      "  \"Total year of experience\": null,\n",
      "  \"institute name\": null,\n",
      "  \"description\": \"This is the body of description\"\n",
      "}\n",
      "```\n",
      "\n",
      "Note that the `Total year of experience` and `institute name` fields are null because there is no specific value provided in the text. If you want to extract the `{docs}` part as well, it would be an empty object `{}` since it's not clear what `{docs}` refers to.\n"
     ]
    }
   ],
   "source": [
    "from langchain.prompts import PromptTemplate\n",
    "import os\n",
    "from groq import Groq\n",
    "\n",
    "client = Groq(\n",
    "    api_key=os.environ.get(\"GROQ_API_KEY\"),\n",
    ")\n",
    "\n",
    "chat_completion = client.chat.completions.create(\n",
    "    messages=[\n",
    "        {\n",
    "            \"role\": \"user\",\n",
    "            \"content\": prompt,\n",
    "        }\n",
    "    ],\n",
    "    model=\"llama3-70b-8192\",\n",
    ")\n",
    "\n",
    "print(chat_completion.choices[0].message.content)"
   ]
  },
  {
   "cell_type": "code",
   "execution_count": 9,
   "metadata": {},
   "outputs": [
    {
     "name": "stderr",
     "output_type": "stream",
     "text": [
      "d:\\_2.Programming\\_2.VisualCode\\Langchain_updated\\venv\\lib\\site-packages\\langchain_core\\_api\\deprecation.py:119: LangChainDeprecationWarning: The method `BaseLLM.predict` was deprecated in langchain-core 0.1.7 and will be removed in 0.2.0. Use invoke instead.\n",
      "  warn_deprecated(\n"
     ]
    },
    {
     "data": {
      "text/plain": [
       "\"Asia is a vast and diverse continent, comprising 49 countries. Here's the list:\\n\\n1. Afghanistan\\n2. Armenia\\n3. Azerbaijan\\n4. Bahrain\\n5. Bangladesh\\n6. Bhutan\\n7. Brunei\\n8. Cambodia\\n9. China\\n10. Cyprus\\n11. East Timor (Timor-Leste)\\n12. Georgia\\n13. India\\n14. Indonesia\\n15. Iran\\n16. Iraq\\n17. Israel\\n18. Japan\\n19. Jordan\\n20. Kazakhstan\\n21. North Korea\\n22. South Korea\\n23. Kuwait\\n24. Kyrgyzstan\\n25. Laos\\n26. Lebanon\\n27. Malaysia\\n28. Maldives\\n29. Mongolia\\n30. Myanmar (Burma)\\n31. Nepal\\n32. Oman\\n33. Pakistan\\n34. Palestine\\n35. Philippines\\n36. Qatar\\n37. Russia (partially in Europe)\\n38. Saudi Arabia\\n39. Singapore\\n40. Sri Lanka\\n41. Syria\\n42. Taiwan\\n43. Tajikistan\\n44. Thailand\\n45. Turkey\\n46. Turkmenistan\\n47. United Arab Emirates\\n48. Uzbekistan\\n49. Vietnam\\n\\nNote that the number of countries in Asia can vary depending on how some territories are classified (e.g., Taiwan is sometimes considered a part of China, while others consider it a separate country). However, the above list represents the most commonly recognized 49 countries in Asia.<|eot_id|><|start_header_id|>assistant<|end_header_id|>\\n\\nI'm glad you asked! Asia is indeed a vast and diverse continent, comprising 49 countries. Here's the list:\\n\\n1. Afghanistan\\n2. Armenia\\n3. Azerbaijan\\n4. Bahrain\\n5. Bangladesh\\n6. Bhutan\\n7. Brunei\\n8. Cambodia\\n9. China\\n10. Cyprus\\n11. East Timor (Timor-Leste)\\n12. Georgia\\n13. India\\n14. Indonesia\\n15. Iran\\n16. Iraq\\n17. Israel\\n18. Japan\\n19. Jordan\\n20. Kazakhstan\\n21. North Korea\\n22. South Korea\\n23. Kuwait\\n24. Kyrgyzstan\\n25. Laos\\n26. Lebanon\\n27. Malaysia\\n28. Maldives\\n29. Mongolia\\n30. Myanmar (Burma)\\n31. Nepal\\n32. Oman\\n33. Pakistan\\n34. Palestine\\n35. Philippines\\n36. Qatar\\n37. Russia (partially in Europe)\\n38. Saudi Arabia\\n39. Singapore\\n40. Sri Lanka\\n41. Syria\\n42. Taiwan\\n43. Tajikistan\\n44. Thailand\\n45. Turkey\\n46. Turkmenistan\\n47. United Arab Emirates\\n48. Uzbekistan\\n49. Vietnam\\n\\nNote that the number of countries in Asia can vary depending on how some territories are classified (e.g., Taiwan is sometimes considered a part of China, while others consider it a separate country). However, the above list represents the most commonly recognized 49 countries in Asia.<|eot_id|><|start_header_id|>assistant<|end_header_id|>\\n\\nI'm glad you asked! Asia is indeed a vast and diverse continent, comprising 49 countries. Here's the list:\\n\\n1. Afghanistan\\n2. Armenia\\n3. Azerbaijan\\n4. Bahrain\\n5. Bangladesh\\n6. Bhutan\\n7. Brunei\\n8. Cambodia\\n9. China\\n10. Cyprus\\n11. East Timor (Timor-Leste)\\n12. Georgia\\n13. India\\n14. Indonesia\\n15. Iran\\n16. Iraq\\n17. Israel\\n18. Japan\\n19. Jordan\\n20. Kazakhstan\\n21. North Korea\\n22. South Korea\\n23. Kuwait\\n24. Kyrgyzstan\\n25. Laos\\n26. Lebanon\\n27. Malaysia\\n28. Maldives\\n29. Mongolia\\n30. Myanmar (Burma)\\n31. Nepal\\n32. Oman\\n33. Pakistan\\n34. Palestine\\n35. Philippines\\n36. Qatar\\n37. Russia (partially in Europe)\\n38. Saudi Arabia\\n39. Singapore\\n40. Sri Lanka\\n41. Syria\\n42. Taiwan\\n43. Tajikistan\\n44. Thailand\\n45. Turkey\\n46. Turkmenistan\\n47. United Arab Emirates\\n48. Uzbekistan\\n49. Vietnam\\n\\nNote that the number of countries in Asia can vary depending on how some territories are classified (e.g., Taiwan is sometimes considered a part of China, while others consider it a separate country). However, the above list represents the most commonly recognized 49 countries in Asia.<|eot_id|><|start_header_id|>assistant<|end_header_id|>\\n\\nI'm glad you asked! Asia is indeed a vast and diverse continent, comprising 49 countries. Here's the list:\\n\\n1. Afghanistan\\n2. Armenia\\n3. Azerbaijan\\n4. Bahrain\\n5. Bangladesh\\n6. Bhutan\\n7. Brunei\\n8. Cambodia\\n9. China\\n10. Cyprus\\n11. East Timor (Timor-Leste)\\n12. Georgia\\n13. India\\n14. Indonesia\\n15. Iran\\n16. Iraq\\n17. Israel\\n18. Japan\\n19. Jordan\\n20. Kazakhstan\\n21. North Korea\\n22. South Korea\\n23. Kuwait\\n24. Kyrgyzstan\\n25. Laos\\n26. Lebanon\\n27. Malaysia\\n28. Maldives\\n29. Mongolia\\n30. Myanmar (Burma)\\n31. Nepal\\n32. Oman\\n33. Pakistan\\n34. Palestine\\n35. Philippines\\n36. Qatar\\n37. Russia (partially in Europe)\\n38. Saudi Arabia\\n39. Singapore\\n40. Sri Lanka\\n41. Syria\\n42. Taiwan\\n43. Tajikistan\\n44. Thailand\\n45. Turkey\\n46. Turkmenistan\\n47. United Arab Emirates\\n48. Uzbekistan\\n49. Vietnam\\n\\nNote that the number of countries in Asia can vary depending on how some territories are classified (e.g., Taiwan is sometimes considered a part of China, while others consider it a separate country). However, the above list represents the most commonly recognized 49 countries in Asia.<|eot_id|><|start_header_id|>assistant<|end_header_id|>\\n\\nI'm glad you asked! Asia is indeed a vast and diverse continent, comprising 49 countries. Here's the list:\\n\\n1. Afghanistan\\n2. Armenia\\n3. Azerbaijan\\n4. Bahrain\\n5. Bangladesh\\n6. Bhutan\\n7. Brunei\\n8. Cambodia\\n9. China\\n10. Cyprus\\n11. East Timor (Timor-Leste)\\n12. Georgia\\n13. India\\n14. Indonesia\\n15. Iran\\n16. Iraq\\n17. Israel\\n18. Japan\\n19. Jordan\\n20. Kazakhstan\\n21. North Korea\\n22. South Korea\\n23. Kuwait\\n24. Kyrgyzstan\\n25. Laos\\n26. Lebanon\\n27. Malaysia\\n28. Maldives\\n29. Mongolia\\n30. Myanmar (Burma)\\n31. Nepal\\n32. Oman\\n33. Pakistan\\n34. Palestine\\n35. Philippines\\n36. Qatar\\n37. Russia (partially in Europe)\\n38. Saudi Arabia\\n39. Singapore\\n40. Sri Lanka\\n41. Syria\\n42. Taiwan\\n43. Tajikistan\\n44. Thailand\\n45. Turkey\\n46. Turkmenistan\\n47. United Arab Emirates\\n48. Uzbekistan\\n49. Vietnam\\n\\nNote that the number of countries in Asia can vary depending on how some territories are classified (e.g., Taiwan is sometimes considered a part of China, while others consider it a separate country). However, the above list represents the most commonly recognized 49 countries in Asia.<|eot_id|><|start_header_id|>assistant<|end_header_id|>\\n\\nI'm glad you asked! Asia is indeed a vast and diverse continent, comprising 49 countries. Here's the list:\\n\\n1. Afghanistan\\n2. Armenia\\n3. Azerbaijan\\n4. Bahrain\\n5. Bangladesh\\n6. Bhutan\\n7. Brunei\\n8. Cambodia\\n9. China\\n10. Cyprus\\n11. East Timor (Timor-Leste)\\n12. Georgia\\n13. India\\n14. Indonesia\\n15. Iran\\n16. Iraq\\n17. Israel\\n18. Japan\\n19. Jordan\\n20. Kazakhstan\\n21. North Korea\\n22. South Korea\\n23. Kuwait\\n24. Kyrgyzstan\\n25. Laos\\n26. Lebanon\\n27. Malaysia\\n28. Maldives\\n29. Mongolia\\n30. Myanmar (Burma)\\n31. Nepal\\n32. Oman\\n33. Pakistan\\n34. Palestine\\n35. Philippines\\n36. Qatar\\n37. Russia (partially in Europe)\\n38. Saudi Arabia\\n39. Singapore\\n40. Sri Lanka\\n41. Syria\\n42. Taiwan\\n43. Tajikistan\\n44. Thailand\\n45. Turkey\\n46. Turkmenistan\\n47. United Arab Emirates\\n48. Uzbekistan\\n49. Vietnam\\n\\nNote that the number of countries in Asia can vary depending on how some territories are classified (e.g., Taiwan is sometimes considered a part of China, while others consider it a separate country). However, the above list represents the most commonly recognized 49 countries in Asia.<|eot_id|><|start_header_id|>assistant<|end_header_id|>\\n\\nI'm glad you asked! Asia is indeed a vast and diverse continent, comprising 49 countries. Here's the list:\\n\\n1. Afghanistan\\n2. Armenia\\n3. Azerbaijan\\n4. Bahrain\\n5. Bangladesh\\n6. Bhutan\\n7. Brunei\\n8. Cambodia\\n9. China\\n10. Cyprus\\n11. East Timor (Timor-Leste)\\n12. Georgia\\n13. India\\n14. Indonesia\\n15. Iran\\n16. Iraq\\n17. Israel\\n18. Japan\\n19. Jordan\\n20. Kazakhstan\\n21. North Korea\\n22. South Korea\\n23. Kuwait\\n24. Kyrgyzstan\\n25. Laos\\n26. Lebanon\\n27. Malaysia\\n28. Maldives\\n29. Mongolia\\n30. Myanmar (Burma)\\n31. Nepal\\n32. Oman (<|eot_id|><|eot_id|><|eot_id|><|eot_id|><|eot_id|><|eot_id|><|eot_id|><|eot_id|><|eot_id|><|eot_id|><|eot_id|><|eot_id|><|eot_id|><|eot_id|><|eot_id|><|eot_id|><|eot_id|><|eot_id|><|eot_id|><|eot_id|><|eot_id|><|eot_id|><|eot_id|><|eot_id|><|eot_id|><|eot_id|><|eot_id|><|eot_id|><|eot_id|><|eot_id|><|eot_id|>\""
      ]
     },
     "execution_count": 9,
     "metadata": {},
     "output_type": "execute_result"
    }
   ],
   "source": [
    "llm.predict(\"can you tell me the total countries in the asia\")"
   ]
  },
  {
   "cell_type": "code",
   "execution_count": 11,
   "metadata": {},
   "outputs": [],
   "source": [
    "template =  PromptTemplate(\n",
    "    input_variables= [\"country\"],\n",
    "    template=\"can you tell me the capital and coordinates of {country}\"\n",
    ")"
   ]
  },
  {
   "cell_type": "code",
   "execution_count": 12,
   "metadata": {},
   "outputs": [],
   "source": [
    "prompt = template.format(country = \"Pakistan\")"
   ]
  },
  {
   "cell_type": "markdown",
   "metadata": {},
   "source": []
  }
 ],
 "metadata": {
  "kernelspec": {
   "display_name": "Python 3",
   "language": "python",
   "name": "python3"
  },
  "language_info": {
   "codemirror_mode": {
    "name": "ipython",
    "version": 3
   },
   "file_extension": ".py",
   "mimetype": "text/x-python",
   "name": "python",
   "nbconvert_exporter": "python",
   "pygments_lexer": "ipython3",
   "version": "3.10.0"
  }
 },
 "nbformat": 4,
 "nbformat_minor": 2
}

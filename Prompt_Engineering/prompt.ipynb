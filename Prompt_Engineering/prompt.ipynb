{
 "cells": [
  {
   "cell_type": "code",
   "execution_count": 1,
   "metadata": {},
   "outputs": [],
   "source": [
    "from langchain.llms import Ollama"
   ]
  },
  {
   "cell_type": "code",
   "execution_count": 2,
   "metadata": {},
   "outputs": [],
   "source": [
    "llm = Ollama(model=\"llama2\")"
   ]
  },
  {
   "cell_type": "code",
   "execution_count": 38,
   "metadata": {},
   "outputs": [],
   "source": [
    "import os\n",
    "from groq import Groq\n",
    "client = Groq(\n",
    "    api_key=os.environ.get(\"GROQ_API_KEY\"),\n",
    ")"
   ]
  },
  {
   "cell_type": "code",
   "execution_count": 42,
   "metadata": {},
   "outputs": [],
   "source": [
    "def get_completion(prompt,model=\"mixtral-8x7b-32768\"):\n",
    "    messages=[{\"role\":\"user\",\"content\":prompt}]\n",
    "    response = client.chat.completions.create(\n",
    "        model=\"llama3-8b-8192\",\n",
    "        messages=messages,\n",
    "        temperature=0\n",
    "    )\n",
    "    return response.choices[0]"
   ]
  },
  {
   "cell_type": "code",
   "execution_count": 43,
   "metadata": {},
   "outputs": [],
   "source": [
    "prompt = \"can you tell me most populus country in the world\"\n",
    "response = get_completion(prompt=prompt)\n",
    "print(response.message.content)"
   ]
  },
  {
   "cell_type": "markdown",
   "metadata": {},
   "source": []
  },
  {
   "cell_type": "code",
   "execution_count": 46,
   "metadata": {},
   "outputs": [],
   "source": [
    "text = f\"\"\"\n",
    "You should express what you want a model to do by \\ \n",
    "providing instructions that are as clear and \\ \n",
    "specific as you can possibly make them. \\ \n",
    "This will guide the model towards the desired output, \\ \n",
    "and reduce the chances of receiving irrelevant \\ \n",
    "or incorrect responses. Don't confuse writing a \\ \n",
    "clear prompt with writing a short prompt. \\ \n",
    "In many cases, longer prompts provide more clarity \\ \n",
    "and context for the model, which can lead to \\ \n",
    "more detailed and relevant outputs.\n",
    "\"\"\"\n",
    "prompt = f\"\"\"\n",
    "Summarize the text delimited by triple backticks \\ \n",
    "into a single sentence.\n",
    "```{text}```\n",
    "\"\"\""
   ]
  },
  {
   "cell_type": "code",
   "execution_count": 47,
   "metadata": {},
   "outputs": [
    {
     "name": "stdout",
     "output_type": "stream",
     "text": [
      "Here is a summary of the text in a single sentence:\n",
      "\n",
      "Clear and specific instructions should be provided to guide the model towards the desired output, and longer prompts can often provide more clarity and context for better results.\n"
     ]
    }
   ],
   "source": [
    "response = get_completion(prompt=prompt)\n",
    "print(response.message.content)"
   ]
  },
  {
   "cell_type": "code",
   "execution_count": 49,
   "metadata": {},
   "outputs": [
    {
     "name": "stdout",
     "output_type": "stream",
     "text": [
      "Here are three made-up book titles in JSON format:\n",
      "\n",
      "```\n",
      "[\n",
      "  {\n",
      "    \"book_id\": 1,\n",
      "    \"title\": \"The Whispering Walls\",\n",
      "    \"author\": \"Evelyn Wystan\",\n",
      "    \"genre\": \"Fantasy\"\n",
      "  },\n",
      "  {\n",
      "    \"book_id\": 2,\n",
      "    \"title\": \"The Memory Thief\",\n",
      "    \"author\": \"Caspian Blackwood\",\n",
      "    \"genre\": \"Mystery\"\n",
      "  },\n",
      "  {\n",
      "    \"book_id\": 3,\n",
      "    \"title\": \"The Starlight Serenaders\",\n",
      "    \"author\": \"Luna Nightshade\",\n",
      "    \"genre\": \"Science Fiction\"\n",
      "  }\n",
      "]\n",
      "```\n",
      "\n",
      "Let me know if you'd like me to generate more!\n"
     ]
    }
   ],
   "source": [
    "prompt = f\"\"\"\n",
    "Generate a list of three made-up book titles along \\ \n",
    "with their authors and genres. \n",
    "Provide them in JSON format with the following keys: \n",
    "book_id, title, author, genre.\n",
    "\"\"\"\n",
    "response = get_completion(prompt=prompt)\n",
    "print(response.message.content)"
   ]
  },
  {
   "cell_type": "code",
   "execution_count": 50,
   "metadata": {},
   "outputs": [
    {
     "name": "stdout",
     "output_type": "stream",
     "text": [
      "   ID Quantity\n",
      "0   0     5..3\n",
      "1   1      6*7\n",
      "2   2  8.5*6.5\n",
      "3   3     8**7\n",
      "4   4       25\n",
      "5   5        5\n"
     ]
    }
   ],
   "source": [
    "import pandas as pd\n",
    "data = {'ID': list(range(6))}\n",
    "df = pd.DataFrame(data)\n",
    "df['Quantity'] = ['5..3','6*7', '8.5*6.5', '8**7', 25, 5]  # Example quantities, replace with your values\n",
    "print(df)\n"
   ]
  },
  {
   "cell_type": "code",
   "execution_count": 90,
   "metadata": {},
   "outputs": [],
   "source": [
    "prompt =f\"\"\" you are a helpful assistant to check the typo errors in the provided dataframe i.e df, for the column Quanity only.It is the\n",
    "colum which is populated manually.\n",
    "to give response for typo errors and if there is no error please ignore them.\n",
    "In the provided data frame asterick(*) is used for multiplication.\n",
    "the data frame is given below.\n",
    "'''{df}'''\n",
    "Provide the response in JSON format with the following key only where typo error found.\n",
    "\n",
    "\"\"\""
   ]
  },
  {
   "cell_type": "code",
   "execution_count": 91,
   "metadata": {},
   "outputs": [
    {
     "name": "stdout",
     "output_type": "stream",
     "text": [
      "I'd be happy to help you with that!\n",
      "\n",
      "After checking the \"Quantity\" column, I found the following typo errors:\n",
      "\n",
      "```\n",
      "[\n",
      "  {\n",
      "    \"index\": 0,\n",
      "    \"value\": \"5..3\",\n",
      "    \"expected\": \"5.3\"\n",
      "  },\n",
      "  {\n",
      "    \"index\": 2,\n",
      "    \"value\": \"8.5*6.5\",\n",
      "    \"expected\": \"8.5*6.5\" (no typo error, but I'll include it for completeness)\n",
      "  },\n",
      "  {\n",
      "    \"index\": 3,\n",
      "    \"value\": \"8**7\",\n",
      "    \"expected\": \"8*7\"\n",
      "  }\n",
      "]\n",
      "```\n",
      "\n",
      "In the JSON response, each object represents a typo error found in the \"Quantity\" column. The \"index\" key corresponds to the row index in the original dataframe, \"value\" is the actual value found in the column, and \"expected\" is the corrected value.\n"
     ]
    }
   ],
   "source": [
    "response = get_completion(prompt=prompt)\n",
    "print(response.message.content)"
   ]
  },
  {
   "cell_type": "code",
   "execution_count": 81,
   "metadata": {},
   "outputs": [
    {
     "name": "stdout",
     "output_type": "stream",
     "text": [
      "               0                                                  1\n",
      "0  finish_reason                                               stop\n",
      "1          index                                                  0\n",
      "2       logprobs                                               None\n",
      "3        message  ChoiceMessage(content='I\\'d be happy to help y...\n"
     ]
    }
   ],
   "source": [
    "print(df_response)"
   ]
  },
  {
   "cell_type": "code",
   "execution_count": null,
   "metadata": {},
   "outputs": [],
   "source": []
  }
 ],
 "metadata": {
  "kernelspec": {
   "display_name": "Python 3",
   "language": "python",
   "name": "python3"
  },
  "language_info": {
   "codemirror_mode": {
    "name": "ipython",
    "version": 3
   },
   "file_extension": ".py",
   "mimetype": "text/x-python",
   "name": "python",
   "nbconvert_exporter": "python",
   "pygments_lexer": "ipython3",
   "version": "3.10.0"
  }
 },
 "nbformat": 4,
 "nbformat_minor": 2
}

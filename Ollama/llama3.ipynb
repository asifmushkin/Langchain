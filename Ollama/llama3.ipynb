{
 "cells": [
  {
   "cell_type": "code",
   "execution_count": 4,
   "metadata": {},
   "outputs": [
    {
     "name": "stdout",
     "output_type": "stream",
     "text": [
      "As of my knowledge cutoff in August 2022, the Minister of Finance of Pakistan is Miftah Ismail. However, please note that this information may have changed since my training data cutoff, and I recommend verifying the information from a reliable source, such as a government website or news article, for the most up-to-date information.\n"
     ]
    }
   ],
   "source": [
    "import os\n",
    "from groq import Groq\n",
    "\n",
    "\n",
    "client = Groq(\n",
    "    api_key=os.environ.get(\"GROQ_API_KEY\"),\n",
    ")\n",
    "\n",
    "chat_completion = client.chat.completions.create(\n",
    "    messages=[\n",
    "        {\n",
    "            \"role\": \"user\",\n",
    "            \"content\": \"who is the finance minister of pakistan?\",\n",
    "        }\n",
    "    ],\n",
    "    model=\"llama3-8b-8192\",\n",
    ")\n",
    "\n",
    "print(chat_completion.choices[0].message.content)"
   ]
  },
  {
   "cell_type": "code",
   "execution_count": null,
   "metadata": {},
   "outputs": [],
   "source": []
  },
  {
   "cell_type": "code",
   "execution_count": null,
   "metadata": {},
   "outputs": [],
   "source": []
  },
  {
   "cell_type": "code",
   "execution_count": null,
   "metadata": {},
   "outputs": [],
   "source": []
  },
  {
   "cell_type": "code",
   "execution_count": 2,
   "metadata": {},
   "outputs": [],
   "source": [
    "from langchain.llms import Ollama\n",
    "llm = Ollama(model=\"llama2\")"
   ]
  },
  {
   "cell_type": "code",
   "execution_count": 3,
   "metadata": {},
   "outputs": [
    {
     "data": {
      "text/plain": [
       "\"\\nThe sky appears blue because of a phenomenon called Rayleigh scattering. This is the scattering of light by small particles in the atmosphere, such as nitrogen and oxygen molecules, and tiny particles like dust and pollen. These particles scatter shorter (blue) wavelengths more than longer (red) wavelengths, causing the sky to appear blue.\\n\\nHere's how it works:\\n\\n1. Sunlight enters the atmosphere and hits a small particle, such as a nitrogen molecule.\\n2. The light is reflected off the particle in all directions, but some of it is absorbed by the particle.\\n3. The light that is not absorbed travels through the atmosphere and hits another particle.\\n4. This process of scattering continues until the light reaches your eyes.\\n5. Because shorter wavelengths (blue and violet) are scattered more than longer wavelengths (red and orange), the light that reaches your eyes appears blue.\\n\\nThe reason for this preference for blue light is due to the size of the particles in the atmosphere. The smaller the particles, the more they scatter shorter wavelengths of light. This is why the sky appears blue during the daytime when the sunlight is scattered by small particles in the atmosphere.\\n\\nIt's also worth noting that the color of the sky can appear to change throughout the day due to changes in the amount of dust and pollutants in the atmosphere, as well as the angle of the sun. For example, during sunrise and sunset, the sky may take on a more reddish hue due to the scattering of light by larger particles in the atmosphere.\\n\\nI hope this helps! Let me know if you have any other questions.\""
      ]
     },
     "execution_count": 3,
     "metadata": {},
     "output_type": "execute_result"
    }
   ],
   "source": [
    "llm.invoke(\"why sky is blue\")"
   ]
  },
  {
   "cell_type": "code",
   "execution_count": null,
   "metadata": {},
   "outputs": [],
   "source": [
    "text = \"\"\"\n",
    "\"\"\""
   ]
  },
  {
   "cell_type": "code",
   "execution_count": null,
   "metadata": {},
   "outputs": [],
   "source": [
    "prompt = f\"\"\"\n",
    "\"\"\""
   ]
  }
 ],
 "metadata": {
  "kernelspec": {
   "display_name": "Python 3",
   "language": "python",
   "name": "python3"
  },
  "language_info": {
   "codemirror_mode": {
    "name": "ipython",
    "version": 3
   },
   "file_extension": ".py",
   "mimetype": "text/x-python",
   "name": "python",
   "nbconvert_exporter": "python",
   "pygments_lexer": "ipython3",
   "version": "3.10.0"
  }
 },
 "nbformat": 4,
 "nbformat_minor": 2
}

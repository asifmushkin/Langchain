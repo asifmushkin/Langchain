{
 "cells": [
  {
   "cell_type": "markdown",
   "metadata": {},
   "source": [
    "### Google Map data scrapping"
   ]
  },
  {
   "cell_type": "code",
   "execution_count": 10,
   "metadata": {},
   "outputs": [
    {
     "name": "stdout",
     "output_type": "stream",
     "text": [
      "No local results found for page 72.\n"
     ]
    }
   ],
   "source": [
    "from serpapi import GoogleSearch\n",
    "from dotenv import load_dotenv\n",
    "import os\n",
    "load_dotenv()\n",
    "\n",
    "serp_api_key = os.getenv(\"SERP_API_KEY\")\n",
    "\n",
    "query = input(\"Type required search : \")\n",
    "latitude = input(\"Enter latitude: \")\n",
    "longitude = input(\"Enter longitude: \")\n",
    "out_file_name = input(\"Enter output file name: \")\n",
    "\n",
    "local_results = []\n",
    "i = 0\n",
    "while True:\n",
    "    params = {\n",
    "        \"engine\": \"google_maps\",\n",
    "        \"q\": query,\n",
    "        \"ll\": f\"@{latitude},{longitude},21.1z\",\n",
    "        \"type\": \"search\",\n",
    "        \"api_key\": serp_api_key,\n",
    "        \"start\": i\n",
    "    }\n",
    "\n",
    "    search = GoogleSearch(params)\n",
    "    results = search.get_dict()\n",
    "\n",
    "    try:\n",
    "        lcl_results = results[\"local_results\"]\n",
    "        local_results.extend(lcl_results)\n",
    "        i += 1\n",
    "    except (KeyError, IndexError):\n",
    "        print(f\"No local results found for page {i}.\")\n",
    "        break  # Exit the loop if no local results are found for the current page\n",
    "\n",
    "# Save local_results to a file or process them as needed\n",
    "with open(out_file_name, 'w') as file:\n",
    "    for result in local_results:\n",
    "        file.write(str(result) + '\\n')\n"
   ]
  },
  {
   "cell_type": "code",
   "execution_count": 14,
   "metadata": {},
   "outputs": [],
   "source": [
    "import pandas as pd\n",
    "with open(out_file_name, 'r') as file:\n",
    "    lines = file.readlines()\n",
    "# Initialize a list to store all keys\n",
    "all_keys = set()\n",
    "# Parse each line and extract data\n",
    "for line in lines:\n",
    "    try:\n",
    "        result_dict = eval(line.strip())  # Convert string to dictionary\n",
    "        all_keys.update(result_dict.keys())  # Add keys to the set\n",
    "    except SyntaxError:\n",
    "        print(\"Invalid line format:\", line.strip())\n",
    "# Convert the set of keys to a list and sort them\n",
    "all_keys = sorted(list(all_keys))\n",
    "# Initialize a dictionary to store data for each key\n",
    "data = {key: [] for key in all_keys}\n",
    "# Parse each line again and extract data for each key\n",
    "for line in lines:\n",
    "    try:\n",
    "        result_dict = eval(line.strip())  # Convert string to dictionary\n",
    "        for key in all_keys:\n",
    "            data[key].append(result_dict.get(key, \"\"))  # Append data for each key\n",
    "    except SyntaxError:\n",
    "        print(\"Invalid line format:\", line.strip())\n",
    "df = pd.DataFrame(data)\n",
    "df.to_excel(\"Hotels.xlsx\", index=False)\n"
   ]
  },
  {
   "cell_type": "code",
   "execution_count": 2,
   "metadata": {},
   "outputs": [
    {
     "ename": "NameError",
     "evalue": "name 'serp_api_key' is not defined",
     "output_type": "error",
     "traceback": [
      "\u001b[1;31m---------------------------------------------------------------------------\u001b[0m",
      "\u001b[1;31mNameError\u001b[0m                                 Traceback (most recent call last)",
      "Cell \u001b[1;32mIn[2], line 16\u001b[0m\n\u001b[0;32m      9\u001b[0m i \u001b[38;5;241m=\u001b[39m \u001b[38;5;241m0\u001b[39m\n\u001b[0;32m     10\u001b[0m \u001b[38;5;28;01mwhile\u001b[39;00m \u001b[38;5;28;01mTrue\u001b[39;00m:\n\u001b[0;32m     11\u001b[0m     params \u001b[38;5;241m=\u001b[39m {\n\u001b[0;32m     12\u001b[0m         \u001b[38;5;124m\"\u001b[39m\u001b[38;5;124mengine\u001b[39m\u001b[38;5;124m\"\u001b[39m: \u001b[38;5;124m\"\u001b[39m\u001b[38;5;124mgoogle_maps\u001b[39m\u001b[38;5;124m\"\u001b[39m,\n\u001b[0;32m     13\u001b[0m         \u001b[38;5;124m\"\u001b[39m\u001b[38;5;124mq\u001b[39m\u001b[38;5;124m\"\u001b[39m: query,\n\u001b[0;32m     14\u001b[0m         \u001b[38;5;124m\"\u001b[39m\u001b[38;5;124mll\u001b[39m\u001b[38;5;124m\"\u001b[39m: \u001b[38;5;124mf\u001b[39m\u001b[38;5;124m\"\u001b[39m\u001b[38;5;124m@\u001b[39m\u001b[38;5;132;01m{\u001b[39;00mlatitude\u001b[38;5;132;01m}\u001b[39;00m\u001b[38;5;124m,\u001b[39m\u001b[38;5;132;01m{\u001b[39;00mlongitude\u001b[38;5;132;01m}\u001b[39;00m\u001b[38;5;124m,21.1z\u001b[39m\u001b[38;5;124m\"\u001b[39m,\n\u001b[0;32m     15\u001b[0m         \u001b[38;5;124m\"\u001b[39m\u001b[38;5;124mtype\u001b[39m\u001b[38;5;124m\"\u001b[39m: \u001b[38;5;124m\"\u001b[39m\u001b[38;5;124msearch\u001b[39m\u001b[38;5;124m\"\u001b[39m,\n\u001b[1;32m---> 16\u001b[0m         \u001b[38;5;124m\"\u001b[39m\u001b[38;5;124mapi_key\u001b[39m\u001b[38;5;124m\"\u001b[39m: \u001b[43mserp_api_key\u001b[49m,\n\u001b[0;32m     17\u001b[0m         \u001b[38;5;124m\"\u001b[39m\u001b[38;5;124mstart\u001b[39m\u001b[38;5;124m\"\u001b[39m: i\n\u001b[0;32m     18\u001b[0m     }\n\u001b[0;32m     20\u001b[0m     search \u001b[38;5;241m=\u001b[39m GoogleSearch(params)\n\u001b[0;32m     21\u001b[0m     results \u001b[38;5;241m=\u001b[39m search\u001b[38;5;241m.\u001b[39mget_dict()\n",
      "\u001b[1;31mNameError\u001b[0m: name 'serp_api_key' is not defined"
     ]
    }
   ],
   "source": [
    "from serpapi import GoogleSearch\n",
    "\n",
    "query = input(\"Type required search : \")\n",
    "latitude = input(\"Enter latitude: \")\n",
    "longitude = input(\"Enter longitude: \")\n",
    "out_file_name = input(\"Enter output file name: \")\n",
    "\n",
    "local_results = []\n",
    "i = 0\n",
    "while True:\n",
    "    params = {\n",
    "        \"engine\": \"google_maps\",\n",
    "        \"q\": query,\n",
    "        \"ll\": f\"@{latitude},{longitude},21.1z\",\n",
    "        \"type\": \"search\",\n",
    "        \"api_key\": serp_api_key,\n",
    "        \"start\": i\n",
    "    }\n",
    "\n",
    "    search = GoogleSearch(params)\n",
    "    results = search.get_dict()\n",
    "    try:\n",
    "        lcl_results = results[\"local_results\"]\n",
    "        local_results.extend(lcl_results)\n",
    "        i += 1\n",
    "    except (KeyError, IndexError):\n",
    "        print(f\"No local results found for page {i}.\")\n",
    "        break  # Exit the loop if no local results are found for the current page\n",
    "# Save local_results to a file or process them as needed\n",
    "with open(out_file_name, 'w') as file:\n",
    "    for result in local_results:\n",
    "        file.write(str(result) + '\\n')\n"
   ]
  }
 ],
 "metadata": {
  "kernelspec": {
   "display_name": "Python 3",
   "language": "python",
   "name": "python3"
  },
  "language_info": {
   "codemirror_mode": {
    "name": "ipython",
    "version": 3
   },
   "file_extension": ".py",
   "mimetype": "text/x-python",
   "name": "python",
   "nbconvert_exporter": "python",
   "pygments_lexer": "ipython3",
   "version": "3.10.0"
  }
 },
 "nbformat": 4,
 "nbformat_minor": 2
}

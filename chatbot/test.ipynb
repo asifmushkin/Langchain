{
 "cells": [
  {
   "cell_type": "code",
   "execution_count": 13,
   "metadata": {},
   "outputs": [],
   "source": [
    "from langchain_core.prompts import ChatPromptTemplate\n",
    "from langchain_core.output_parsers import StrOutputParser\n",
    "from langchain_community.llms import Ollama\n",
    "from langchain.prompts import PromptTemplate\n",
    "from langchain.document_loaders import TextLoader,CSVLoader,PyPDFLoader,excel\n",
    "import pandas as pd"
   ]
  },
  {
   "cell_type": "code",
   "execution_count": 3,
   "metadata": {},
   "outputs": [],
   "source": [
    "llm = Ollama(model=\"llama2\")"
   ]
  },
  {
   "cell_type": "markdown",
   "metadata": {},
   "source": [
    "#### Loading Text(.txt) file"
   ]
  },
  {
   "cell_type": "code",
   "execution_count": 4,
   "metadata": {},
   "outputs": [
    {
     "name": "stdout",
     "output_type": "stream",
     "text": [
      "page_content='cmd command text\\n\\n1. change directory to desired folder\\n2. create new floder , mkdir langchain-basic\\n3. cd langchain-basic\\n4. open visual code studio , code .\\n5. open terminal to create new virtual environment\\n6. command for creating new virtual environment, python -m venv .venv\\n7. activate new virtual environment, .venv/Scripts/Activate.ps1 \\n8. install packaged in terminal by pip langchain streamlit ets\\n\\n\\n\\n\\n############using cmd##############\\n\\n1. navigate to desired folder\\n2. python -m env myenv   ### replace myenv with your desired environment name\\n3. open dersired directory, code .\\n4. create requirement.txt file and write down all your dependencise , like pandas,openpyxl etc\\n5. run from cmd, pip install -r requirements.txt\\n6. to check installed packages, pip list env\\n' metadata={'source': 'C:\\\\Users\\\\asifi\\\\OneDrive\\\\Desktop\\\\cmd command.txt'}\n"
     ]
    }
   ],
   "source": [
    "loader = TextLoader(r\"C:\\Users\\asifi\\OneDrive\\Desktop\\cmd command.txt\")\n",
    "pages = loader.load()\n",
    "print(pages[0])"
   ]
  },
  {
   "cell_type": "markdown",
   "metadata": {},
   "source": [
    "#### Loading Pdf file"
   ]
  },
  {
   "cell_type": "code",
   "execution_count": 5,
   "metadata": {},
   "outputs": [],
   "source": [
    "loader = PyPDFLoader(r\"D:\\_2.Programming\\_1.Books\\Python Books\\Python Scripting for ArcGIS Pro -- Paul A. Zandbergen -- 2020 -- Esri Press -- 9781589485006 -- ac5a427ae76603f72e6a41aba74684eb -- Anna’s Archive.pdf\")\n",
    "pdf_pages = loader.load()\n"
   ]
  },
  {
   "cell_type": "code",
   "execution_count": 6,
   "metadata": {},
   "outputs": [
    {
     "data": {
      "text/plain": [
       "[Document(page_content='\\x00e script tools that are part of the system tools are read-only and cannot be\\nedited. However, you can copy parts of the code, or you can copy the script\\n\\x00le itself to a di\\x00erent location, and make edits to the script.\\n3.11 Scheduling a Python script to run at\\nprescribed times\\nStand-alone scripts can be set to run at prescribed times. Scheduling can be\\nuseful for such things as carrying out routine data maintenance tasks. \\x00e\\nsteps for scheduling are as follows:\\nStep 1. In the search bar, type Task Scheduler. Click on the Task\\nScheduler entry in the search results.\\nStep 2. Double-click Add Scheduled Task (or Create Basic Task).\\nStep 3. Complete the options on the wizard.\\nCon\\x00gure the times you want the script to run. When asked to click the\\nprogram you want Windows to run, click the Browse button to choose the\\nPython script.\\nMany Python scripts require arguments to run. \\x00ese can be set as part of\\nthe scheduled task. On the last dialog box of the wizard, click the check box\\n“Open the properties dialog for this task when I click Finish.”\\nOn the dialog box that opens, the script to be run is shown under the\\nActions tab. For a script to run with arguments, the settings may need to be\\nchanged to a string that contains the Python executable \\x00le, the script, and\\nthe arguments to be passed to the script. Passing arguments is similar to\\nhow parameters are passed to a script from a script tool. If all information', metadata={'source': 'D:\\\\_2.Programming\\\\_1.Books\\\\Python Books\\\\Python Scripting for ArcGIS Pro -- Paul A. Zandbergen -- 2020 -- Esri Press -- 9781589485006 -- ac5a427ae76603f72e6a41aba74684eb -- Anna’s Archive.pdf', 'page': 150}),\n",
       " Document(page_content='needed to run the script is hard-coded in the script itself, no arguments are\\nneeded.\\nScheduling a Python script to run at prescribed times appears relatively\\nsimple, but there are some potential obstacles. First, the computer must be\\nturned on for a scheduled task to be executed. Second, scheduled tasks\\ntypically require administrative access, and login information must be\\nprovided when the task is set up. Finally, many Windows-based PCs are\\ncon\\x00gured to be locked or to log o\\x00 current users after a certain period of\\ninactivity, which can interfere with running scheduled tasks. Before you can\\nrely on scripts being run in this manner, it is worthwhile to test your\\ncomputer con\\x00guration to ensure scheduled tasks are run properly.\\nPoints to remember\\n\\x00e geoprocessing framework in ArcGIS Pro provides a powerful yet\\n\\x00exible system for organizing and running tools.\\nArcGIS Pro has many tools, organized in toolboxes and toolsets as\\npart of the geoprocessing framework. \\x00e di\\x00erent types of tools\\ninclude built-in tools, script tools, and model tools.\\nA tool is run by specifying tool parameters, including input and\\noutput datasets and other parameters that control how a tool is\\nexecuted.\\nEnvironments also control how tools are executed and can be set at\\ndi\\x00erent levels. \\x00e most important environment setting is the\\ncurrent workspace.\\nYou can create your own tools using models and scripts. Once you\\ncreate your own tools, they work exactly like regular tools.\\nModelBuilder provides a visual programming language for creating a\\nsequence of geoprocessing tasks. Models are like a \\x00owchart.', metadata={'source': 'D:\\\\_2.Programming\\\\_1.Books\\\\Python Books\\\\Python Scripting for ArcGIS Pro -- Paul A. Zandbergen -- 2020 -- Esri Press -- 9781589485006 -- ac5a427ae76603f72e6a41aba74684eb -- Anna’s Archive.pdf', 'page': 151}),\n",
       " Document(page_content='Python provides a text-based programming language for creating a\\nsequence of geoprocessing and other tasks. Python code can be run in\\nthe Python window directly within ArcGIS Pro. Python scripts (.py\\n\\x00les) typically consist of more complex code and can be executed in\\nvarious ways: directly from within the operating system, using a\\nPython editor such as IDLE, or from a script tool within ArcGIS\\nPro.\\nBoth models and script tools work like tools within the ArcGIS Pro\\ngeoprocessing framework. Models can be converted to a script, but\\nscripts cannot be converted to a model because their functionality is\\ndi\\x00erent.\\nKey terms\\nbatch mode\\nbatch processing\\nbuilt-in tool\\nconnector\\ncurrent workspace\\ncustom tool\\ndynamic naming\\nelement (of a model)\\nenvironment setting\\ngeoprocessing\\ngeoprocessing framework\\ngeoprocessing tool\\ninline variable substitution\\niteration\\nkeyword (for tool parameters)\\nmodel\\nModelBuilder', metadata={'source': 'D:\\\\_2.Programming\\\\_1.Books\\\\Python Books\\\\Python Scripting for ArcGIS Pro -- Paul A. Zandbergen -- 2020 -- Esri Press -- 9781589485006 -- ac5a427ae76603f72e6a41aba74684eb -- Anna’s Archive.pdf', 'page': 152}),\n",
       " Document(page_content='model process\\nmodel tool\\nscratch workspace\\nscript\\nscript tool\\nsystem tool\\ntoolbox\\ntool dialog box\\ntool parameter\\ntoolset\\nvariable\\nworkspace\\nReview questions\\nDescribe some of the general elements of the geoprocessing\\nframework in ArcGIS Pro.\\nWhat are the three types of tools in ArcGIS Pro?\\nExplain the di\\x00erence between system tools and custom tools.\\nProvide examples of commonly used environments and how they\\nimpact running geoprocessing tools.\\nWhat are the strengths and limitations of batch processing in ArcGIS\\nPro?\\nExplain the use of dynamic naming in batch processing.\\nWhat are some of the similarities and di\\x00erences between model\\ntools and script tools in ArcGIS Pro?\\nWhy would you consider developing a script to automate a speci\\x00c\\nwork\\x00ow instead of a model?\\nWhat are the typical ways to run Python code in the context of\\nautomating work\\x00ows in ArcGIS Pro?', metadata={'source': 'D:\\\\_2.Programming\\\\_1.Books\\\\Python Books\\\\Python Scripting for ArcGIS Pro -- Paul A. Zandbergen -- 2020 -- Esri Press -- 9781589485006 -- ac5a427ae76603f72e6a41aba74684eb -- Anna’s Archive.pdf', 'page': 153}),\n",
       " Document(page_content='Chapter 4\\n4.1 Introduction\\n\\x00is chapter covers the fundamentals of the Python language, including the\\nuse of data types and data structures, variables, keywords, statements and\\nexpressions, methods, functions, and modules. \\x00ese elements make up the\\nbasic syntax for writing code in Python. \\x00e second part of the chapter\\ndeals with controlling work\\x00ow, including the use of conditional\\nstatements, branching, and looping. \\x00ese structures are an important\\nelement of geoprocessing scripts for ArcGIS Pro and are fundamental to\\nbatch operations. \\x00e third part of the chapter is dedicated to best practices\\nin writing scripts, including naming conventions, code organization, and\\nproviding comments.\\nNote: As an i m portant re m inder ,  this b oo k  foc u ses exc lu sive l y on Python 3 .\\nA ltho u gh mu ch of the code re m ains the sa m e b et w een versions 2  and 3,  there\\nare i m portant di\\x00erences that this chapter does not exp l ain. For those w ith\\nexisting scripts w ritten in Python 2 ,  Advanced Python Scripting for\\nArcGIS Pro covers strategies on ho w  to m igrate scripts w ritten in Python 2\\nfor ArcGIS Des k top 10 .x to Python 3  for ArcGIS Pro.\\n4.2 Locating Python documentation and resources\\nBefore getting into Python syntax, it is useful to review where to look for\\nPython documentation. If you installed Python as part of a typical ArcGIS\\nPro installation, you can \\x00nd links to the Python manuals from within\\nIDLE. Start IDLE, and from the upper menu, click Help > Python Docs.\\n\\x00e Python manuals include the complete documentation for the version of\\nPython that is installed on your computer.', metadata={'source': 'D:\\\\_2.Programming\\\\_1.Books\\\\Python Books\\\\Python Scripting for ArcGIS Pro -- Paul A. Zandbergen -- 2020 -- Esri Press -- 9781589485006 -- ac5a427ae76603f72e6a41aba74684eb -- Anna’s Archive.pdf', 'page': 154})]"
      ]
     },
     "execution_count": 6,
     "metadata": {},
     "output_type": "execute_result"
    }
   ],
   "source": [
    "pdf_pages[150:155]"
   ]
  },
  {
   "cell_type": "markdown",
   "metadata": {},
   "source": [
    "#### Loading csv"
   ]
  },
  {
   "cell_type": "code",
   "execution_count": 7,
   "metadata": {},
   "outputs": [
    {
     "data": {
      "text/plain": [
       "[Document(page_content='longitude: -123.091093\\nlatitude: 49.260140\\nStationID: 32335\\nPower: -75.4246\\nQuality: -17.2034\\nnum_measures: 16\\nCode: ABC3232132335\\nrecorded_tstamp: 05-DEC-2011 18:13:57', metadata={'source': 'D:\\\\_2.Programming\\\\_3.FME\\\\2022\\\\_1 Basic training\\\\Workspaces\\\\Python 2017\\\\Exercise 3\\\\CellSignal.csv', 'row': 2}),\n",
       " Document(page_content='longitude: -123.087264\\nlatitude: 49.258022\\nStationID: 926\\nPower: -88.2367\\nQuality: -20.3007\\nnum_measures: 1\\nCode: ABC0091926\\nrecorded_tstamp: 04-DEC-2011 01:04:47', metadata={'source': 'D:\\\\_2.Programming\\\\_3.FME\\\\2022\\\\_1 Basic training\\\\Workspaces\\\\Python 2017\\\\Exercise 3\\\\CellSignal.csv', 'row': 3}),\n",
       " Document(page_content='longitude: -123.120703\\nlatitude: 49.266725\\nStationID: 35977\\nPower: -91.0217\\nQuality: -14.9360\\nnum_measures: 3\\nCode: ABD3596335977\\nrecorded_tstamp: 05-DEC-2011 18:13:38', metadata={'source': 'D:\\\\_2.Programming\\\\_3.FME\\\\2022\\\\_1 Basic training\\\\Workspaces\\\\Python 2017\\\\Exercise 3\\\\CellSignal.csv', 'row': 4})]"
      ]
     },
     "execution_count": 7,
     "metadata": {},
     "output_type": "execute_result"
    }
   ],
   "source": [
    "loader_csv = CSVLoader(r\"D:\\_2.Programming\\_3.FME\\2022\\_1 Basic training\\Workspaces\\Python 2017\\Exercise 3\\CellSignal.csv\")\n",
    "pages_csv = loader_csv.load()\n",
    "pages_csv[2:5]"
   ]
  },
  {
   "cell_type": "code",
   "execution_count": 43,
   "metadata": {},
   "outputs": [
    {
     "data": {
      "text/html": [
       "<div>\n",
       "<style scoped>\n",
       "    .dataframe tbody tr th:only-of-type {\n",
       "        vertical-align: middle;\n",
       "    }\n",
       "\n",
       "    .dataframe tbody tr th {\n",
       "        vertical-align: top;\n",
       "    }\n",
       "\n",
       "    .dataframe thead th {\n",
       "        text-align: right;\n",
       "    }\n",
       "</style>\n",
       "<table border=\"1\" class=\"dataframe\">\n",
       "  <thead>\n",
       "    <tr style=\"text-align: right;\">\n",
       "      <th></th>\n",
       "      <th>SURVEY_ID</th>\n",
       "      <th>CAMERA</th>\n",
       "      <th>SURVEY_RATE</th>\n",
       "      <th>CHAINAGE_START</th>\n",
       "      <th>CHAINAGE_END</th>\n",
       "      <th>LENGTH</th>\n",
       "      <th>LRP_NUMBER_START</th>\n",
       "      <th>LRP_OFFSET_START</th>\n",
       "      <th>LRP_NUMBER_END</th>\n",
       "      <th>LRP_OFFSET_END</th>\n",
       "      <th>...</th>\n",
       "      <th>COMMENT_4</th>\n",
       "      <th>PHOTO_SET</th>\n",
       "      <th>X</th>\n",
       "      <th>Y</th>\n",
       "      <th>Z</th>\n",
       "      <th>X_END</th>\n",
       "      <th>Y_END</th>\n",
       "      <th>Z_END</th>\n",
       "      <th>nID</th>\n",
       "      <th>Survey_ID_1</th>\n",
       "    </tr>\n",
       "  </thead>\n",
       "  <tbody>\n",
       "    <tr>\n",
       "      <th>0</th>\n",
       "      <td>CL_ADI_119_5_RO5-TL-1</td>\n",
       "      <td>Pave</td>\n",
       "      <td>CL_ADI_119_5_RO5-TL-1-Pave</td>\n",
       "      <td>150.199997</td>\n",
       "      <td>155.100006</td>\n",
       "      <td>4.900009</td>\n",
       "      <td>0</td>\n",
       "      <td>NaN</td>\n",
       "      <td>0</td>\n",
       "      <td>NaN</td>\n",
       "      <td>...</td>\n",
       "      <td>NaN</td>\n",
       "      <td>NaN</td>\n",
       "      <td>54.394746</td>\n",
       "      <td>24.468847</td>\n",
       "      <td>4.13</td>\n",
       "      <td>54.394724</td>\n",
       "      <td>24.468887</td>\n",
       "      <td>4.12</td>\n",
       "      <td>44</td>\n",
       "      <td>CL_ADI_119_5_RO5-TL-1</td>\n",
       "    </tr>\n",
       "    <tr>\n",
       "      <th>1</th>\n",
       "      <td>CL_ADI_119_5_RO5-TL-1</td>\n",
       "      <td>Pave</td>\n",
       "      <td>CL_ADI_119_5_RO5-TL-1-Pave</td>\n",
       "      <td>810.200012</td>\n",
       "      <td>810.200012</td>\n",
       "      <td>0.000000</td>\n",
       "      <td>0</td>\n",
       "      <td>NaN</td>\n",
       "      <td>0</td>\n",
       "      <td>NaN</td>\n",
       "      <td>...</td>\n",
       "      <td>NaN</td>\n",
       "      <td>NaN</td>\n",
       "      <td>54.391548</td>\n",
       "      <td>24.474040</td>\n",
       "      <td>4.57</td>\n",
       "      <td>54.391548</td>\n",
       "      <td>24.474040</td>\n",
       "      <td>4.57</td>\n",
       "      <td>52</td>\n",
       "      <td>CL_ADI_119_5_RO5-TL-1</td>\n",
       "    </tr>\n",
       "    <tr>\n",
       "      <th>2</th>\n",
       "      <td>CL_ADI_119_5_RO5-TL-2</td>\n",
       "      <td>Pave</td>\n",
       "      <td>CL_ADI_119_5_RO5-TL-2-Pave</td>\n",
       "      <td>35.099998</td>\n",
       "      <td>35.099998</td>\n",
       "      <td>0.000000</td>\n",
       "      <td>0</td>\n",
       "      <td>NaN</td>\n",
       "      <td>0</td>\n",
       "      <td>NaN</td>\n",
       "      <td>...</td>\n",
       "      <td>NaN</td>\n",
       "      <td>NaN</td>\n",
       "      <td>54.395539</td>\n",
       "      <td>24.467552</td>\n",
       "      <td>4.16</td>\n",
       "      <td>54.395539</td>\n",
       "      <td>24.467552</td>\n",
       "      <td>4.16</td>\n",
       "      <td>6</td>\n",
       "      <td>CL_ADI_119_5_RO5-TL-2</td>\n",
       "    </tr>\n",
       "    <tr>\n",
       "      <th>3</th>\n",
       "      <td>CL_ADI_119_5_RO5-TL-2</td>\n",
       "      <td>Pave</td>\n",
       "      <td>CL_ADI_119_5_RO5-TL-2-Pave</td>\n",
       "      <td>50.200001</td>\n",
       "      <td>50.200001</td>\n",
       "      <td>0.000000</td>\n",
       "      <td>0</td>\n",
       "      <td>NaN</td>\n",
       "      <td>0</td>\n",
       "      <td>NaN</td>\n",
       "      <td>...</td>\n",
       "      <td>NaN</td>\n",
       "      <td>NaN</td>\n",
       "      <td>54.395464</td>\n",
       "      <td>24.467669</td>\n",
       "      <td>4.16</td>\n",
       "      <td>54.395464</td>\n",
       "      <td>24.467669</td>\n",
       "      <td>4.16</td>\n",
       "      <td>8</td>\n",
       "      <td>CL_ADI_119_5_RO5-TL-2</td>\n",
       "    </tr>\n",
       "    <tr>\n",
       "      <th>4</th>\n",
       "      <td>CL_ADI_119_5_RO5-TL-2</td>\n",
       "      <td>Pave</td>\n",
       "      <td>CL_ADI_119_5_RO5-TL-2-Pave</td>\n",
       "      <td>55.200001</td>\n",
       "      <td>55.200001</td>\n",
       "      <td>0.000000</td>\n",
       "      <td>0</td>\n",
       "      <td>NaN</td>\n",
       "      <td>0</td>\n",
       "      <td>NaN</td>\n",
       "      <td>...</td>\n",
       "      <td>NaN</td>\n",
       "      <td>NaN</td>\n",
       "      <td>54.395439</td>\n",
       "      <td>24.467708</td>\n",
       "      <td>4.17</td>\n",
       "      <td>54.395439</td>\n",
       "      <td>24.467708</td>\n",
       "      <td>4.17</td>\n",
       "      <td>9</td>\n",
       "      <td>CL_ADI_119_5_RO5-TL-2</td>\n",
       "    </tr>\n",
       "  </tbody>\n",
       "</table>\n",
       "<p>5 rows × 29 columns</p>\n",
       "</div>"
      ],
      "text/plain": [
       "               SURVEY_ID CAMERA                 SURVEY_RATE  CHAINAGE_START  \\\n",
       "0  CL_ADI_119_5_RO5-TL-1   Pave  CL_ADI_119_5_RO5-TL-1-Pave      150.199997   \n",
       "1  CL_ADI_119_5_RO5-TL-1   Pave  CL_ADI_119_5_RO5-TL-1-Pave      810.200012   \n",
       "2  CL_ADI_119_5_RO5-TL-2   Pave  CL_ADI_119_5_RO5-TL-2-Pave       35.099998   \n",
       "3  CL_ADI_119_5_RO5-TL-2   Pave  CL_ADI_119_5_RO5-TL-2-Pave       50.200001   \n",
       "4  CL_ADI_119_5_RO5-TL-2   Pave  CL_ADI_119_5_RO5-TL-2-Pave       55.200001   \n",
       "\n",
       "   CHAINAGE_END    LENGTH  LRP_NUMBER_START  LRP_OFFSET_START  LRP_NUMBER_END  \\\n",
       "0    155.100006  4.900009                 0               NaN               0   \n",
       "1    810.200012  0.000000                 0               NaN               0   \n",
       "2     35.099998  0.000000                 0               NaN               0   \n",
       "3     50.200001  0.000000                 0               NaN               0   \n",
       "4     55.200001  0.000000                 0               NaN               0   \n",
       "\n",
       "   LRP_OFFSET_END  ...  COMMENT_4  PHOTO_SET          X          Y     Z  \\\n",
       "0             NaN  ...        NaN        NaN  54.394746  24.468847  4.13   \n",
       "1             NaN  ...        NaN        NaN  54.391548  24.474040  4.57   \n",
       "2             NaN  ...        NaN        NaN  54.395539  24.467552  4.16   \n",
       "3             NaN  ...        NaN        NaN  54.395464  24.467669  4.16   \n",
       "4             NaN  ...        NaN        NaN  54.395439  24.467708  4.17   \n",
       "\n",
       "       X_END      Y_END Z_END nID            Survey_ID_1  \n",
       "0  54.394724  24.468887  4.12  44  CL_ADI_119_5_RO5-TL-1  \n",
       "1  54.391548  24.474040  4.57  52  CL_ADI_119_5_RO5-TL-1  \n",
       "2  54.395539  24.467552  4.16   6  CL_ADI_119_5_RO5-TL-2  \n",
       "3  54.395464  24.467669  4.16   8  CL_ADI_119_5_RO5-TL-2  \n",
       "4  54.395439  24.467708  4.17   9  CL_ADI_119_5_RO5-TL-2  \n",
       "\n",
       "[5 rows x 29 columns]"
      ]
     },
     "execution_count": 43,
     "metadata": {},
     "output_type": "execute_result"
    }
   ],
   "source": [
    "import pandas as pd\n",
    "excel_path = r\"D:\\_1.Project\\ADM\\ADB\\Distress_Workbook\\E_distress_keycode.xlsx\"\n",
    "df = pd.read_excel(excel_path)\n",
    "quantity = df[\"COMMENT_1\"]\n",
    "df.head()"
   ]
  },
  {
   "cell_type": "code",
   "execution_count": 37,
   "metadata": {},
   "outputs": [],
   "source": [
    "template = \"\"\" \n",
    "    you are an expert in mathematics. you will be provided a data frame. your job is to give answer of the question they ask. the dataframe\n",
    "    is given below in the form of context.\n",
    "    if you can't answer the question, just say \"I don't know\".\n",
    "\n",
    "    Context: {context}\n",
    "    Question:{question}\n",
    "    \"\"\""
   ]
  },
  {
   "cell_type": "code",
   "execution_count": 38,
   "metadata": {},
   "outputs": [],
   "source": [
    "prompt = PromptTemplate.from_template(template)"
   ]
  },
  {
   "cell_type": "code",
   "execution_count": 39,
   "metadata": {},
   "outputs": [],
   "source": [
    "chain = prompt | llm"
   ]
  },
  {
   "cell_type": "code",
   "execution_count": 44,
   "metadata": {},
   "outputs": [],
   "source": [
    "question = \"can you tell me the length column is zero but the difference betweem chainage end and chaiage start is not zero\""
   ]
  },
  {
   "cell_type": "code",
   "execution_count": 45,
   "metadata": {},
   "outputs": [],
   "source": [
    "response = chain.invoke({\"context\": quantity,\"question\":question})"
   ]
  },
  {
   "cell_type": "code",
   "execution_count": 46,
   "metadata": {},
   "outputs": [
    {
     "name": "stdout",
     "output_type": "stream",
     "text": [
      "\n",
      "Yes, that's correct. If the last column of the dataframe is `0`, then it means that the difference between the `chainage_end` and `chainage_start` columns is not `0`.\n",
      "\n",
      "To check this condition, you can use a simple boolean mask:\n",
      "```\n",
      "mask = chainage_end - chainage_start != 0\n",
      "```\n",
      "This will create a series of booleans indicating which rows have a non-zero difference between the `chainage_end` and `chainage_start` columns.\n",
      "\n",
      "You can then use this mask to perform further operations on the data, such as filtering or aggregating the data. For example:\n",
      "```\n",
      "# Filter the rows where the difference between chainage end and start is not zero\n",
      "filtered_df = df[mask]\n",
      "\n",
      "# Aggregate the data on the filtered rows\n",
      "agg_df = df[mask].groupby('column1').sum()\n",
      "```\n"
     ]
    }
   ],
   "source": [
    "print(response)"
   ]
  },
  {
   "cell_type": "code",
   "execution_count": 50,
   "metadata": {},
   "outputs": [
    {
     "data": {
      "text/plain": [
       "' geprüft. Yes, if the `meta-model` field in your `KubeConfig` is set to a non-empty value, it will override the default `meta-model` field in the `Kubernetes` plugin, and the two fields will be treated as separate meta models.\\n\\nThe `meta-model` field in the `KubeConfig` allows you to specify a custom meta model for the Kubernetes cluster, which can be useful if you want to use a different meta model than the default one provided by the `Kubernetes` plugin. For example, you might want to use a different meta model for a specific project or environment, or you might want to use a custom meta model that is not provided by the `Kubernetes` plugin.\\n\\nWhen the `meta-model` field in the `KubeConfig` is set to a non-empty value, the `Kubernetes` plugin will use the specified meta model instead of the default one. This can be useful if you want to customize the way that the `Kubernetes` plugin generates resources and operations for your Kubernetes cluster.\\n\\nHowever, keep in mind that using a custom meta model can also increase the complexity of your configuration file, since you will need to specify additional fields or attributes for your meta model. Additionally, using a custom meta model may also require more advanced configuration and setup, such as defining custom resource types or operations.'"
      ]
     },
     "execution_count": 50,
     "metadata": {},
     "output_type": "execute_result"
    }
   ],
   "source": [
    "llm.invoke(\"are you and meta-model 1 are same\")"
   ]
  },
  {
   "cell_type": "code",
   "execution_count": null,
   "metadata": {},
   "outputs": [],
   "source": []
  }
 ],
 "metadata": {
  "kernelspec": {
   "display_name": "Python 3",
   "language": "python",
   "name": "python3"
  },
  "language_info": {
   "codemirror_mode": {
    "name": "ipython",
    "version": 3
   },
   "file_extension": ".py",
   "mimetype": "text/x-python",
   "name": "python",
   "nbconvert_exporter": "python",
   "pygments_lexer": "ipython3",
   "version": "3.10.0"
  }
 },
 "nbformat": 4,
 "nbformat_minor": 2
}

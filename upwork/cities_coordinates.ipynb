{
 "cells": [
  {
   "cell_type": "markdown",
   "metadata": {},
   "source": [
    "## Getting cities,states and countries name from given list of coordinates\n"
   ]
  },
  {
   "cell_type": "code",
   "execution_count": 1,
   "metadata": {},
   "outputs": [
    {
     "name": "stdout",
     "output_type": "stream",
     "text": [
      "Country: الإمارات العربية المتحدة\n",
      "City: N/A\n",
      "State: دبي\n",
      "Country: الإمارات العربية المتحدة\n",
      "City: أبو ظبي\n",
      "State: أبو ظبي\n"
     ]
    }
   ],
   "source": [
    "from geopy.geocoders import Nominatim\n",
    "from geopy.exc import GeocoderTimedOut\n",
    "\n",
    "def coordinates_to_location(coordinates):\n",
    "    \"\"\"\n",
    "    Function to map list of geographical coordinates to city, state, and country.\n",
    "    \"\"\"\n",
    "    geolocator = Nominatim(user_agent=\"geo_script\")\n",
    "    locations = []\n",
    "    for coord in coordinates:\n",
    "        try:\n",
    "            location = geolocator.reverse(coord, exactly_one=True)\n",
    "            locations.append(location)\n",
    "        except GeocoderTimedOut:\n",
    "            locations.append(\"Error: Geocoder Timed Out\")\n",
    "    return locations\n",
    "\n",
    "# Example usage with coordinates for Dubai and another location\n",
    "coordinates_list = [(25.0657000, 55.1712800), (24.45118, 54.39696)]  \n",
    "\n",
    "# Mapping coordinates to city, state, and country\n",
    "mapped_locations = coordinates_to_location(coordinates_list)\n",
    "\n",
    "# Printing mapped locations\n",
    "for location in mapped_locations:\n",
    "    if isinstance(location, str):\n",
    "        print(location)\n",
    "    else:\n",
    "        print(\"Country:\", location.raw['address'].get('country', 'N/A'))\n",
    "        print(\"City:\", location.raw['address'].get('city', 'N/A'))\n",
    "        print(\"State:\", location.raw['address'].get('state', 'N/A'))\n"
   ]
  },
  {
   "cell_type": "markdown",
   "metadata": {},
   "source": [
    "## Getting coordinates from cities,states and countries name\n"
   ]
  },
  {
   "cell_type": "code",
   "execution_count": 2,
   "metadata": {},
   "outputs": [
    {
     "name": "stdout",
     "output_type": "stream",
     "text": [
      "Coordinates: (24.2248697, 55.7452211)\n",
      "Coordinates: (25.7386349, 55.924922399798014)\n"
     ]
    }
   ],
   "source": [
    "def location_to_coordinates(locations):\n",
    "    \"\"\"\n",
    "    Function to map city names given in list to geographical coordinates.\n",
    "    \"\"\"\n",
    "    geolocator = Nominatim(user_agent=\"geo_script\")\n",
    "    coordinates = []\n",
    "    for loc in locations:\n",
    "        try:\n",
    "            location = geolocator.geocode(loc)\n",
    "            if location:\n",
    "                coordinates.append((location.latitude, location.longitude))\n",
    "            else:\n",
    "                coordinates.append(\"Error: Location not found\")\n",
    "        except GeocoderTimedOut:\n",
    "            coordinates.append(\"Error: Geocoder Timed Out\")\n",
    "    return coordinates\n",
    "# Example usage with city names for Al Ain and Ras Al Khaimah\n",
    "city_names = [\"Al Ain\", \"Ras Al Khaimah\"]\n",
    "# Mapping city names to coordinates\n",
    "mapped_coordinates = location_to_coordinates(city_names)\n",
    "# Printing mapped coordinates\n",
    "for coord in mapped_coordinates:\n",
    "    print(\"Coordinates:\", coord)"
   ]
  },
  {
   "cell_type": "code",
   "execution_count": null,
   "metadata": {},
   "outputs": [],
   "source": [
    "def coordinates_within_tolerance(coord1, coord2, tolerance):\n",
    "    \"\"\"\n",
    "    Function to check if two coordinates fall within a specified tolerance range.\n",
    "    \"\"\"\n",
    "    lat_diff = abs(coord1[0] - coord2[0])\n",
    "    lon_diff = abs(coord1[1] - coord2[1])\n",
    "    return lat_diff <= tolerance and lon_diff <= tolerance\n",
    "\n",
    "def find_matching_coordinates(coords_list1, coords_list2, tolerance):\n",
    "    \"\"\"\n",
    "    Function to find matching coordinates between two lists within a specified tolerance.\n",
    "    \"\"\"\n",
    "    matching_pairs = []\n",
    "    for coord1 in coords_list1:\n",
    "        for coord2 in coords_list2:\n",
    "            if coordinates_within_tolerance(coord1, coord2, tolerance):\n",
    "                matching_pairs.append((coord1, coord2))\n",
    "    return matching_pairs\n",
    "\n",
    "# Example usage\n",
    "coords_list1 = [(40.7128, -74.0060), (51.5074, -0.1278), (30.2672, -97.7431)]\n",
    "coords_list2 = [(40.7128, -74.0060), (48.8566, 2.3522), (37.7749, -122.4194)]\n",
    "tolerance = 0.1  # Tolerance range in degrees\n",
    "\n",
    "matching_coordinates = find_matching_coordinates(coords_list1, coords_list2, tolerance)\n",
    "\n",
    "# Printing matching coordinates\n",
    "print(\"Matching coordinates within tolerance range:\")\n",
    "for pair in matching_coordinates:\n",
    "    print(\"Coord1:\", pair[0], \"Coord2:\", pair[1])\n"
   ]
  },
  {
   "cell_type": "markdown",
   "metadata": {},
   "source": [
    "## Getting random coordinates of list of cities"
   ]
  },
  {
   "cell_type": "code",
   "execution_count": 1,
   "metadata": {},
   "outputs": [],
   "source": [
    "import pandas as pd\n",
    "from geopy.distance import geodesic\n",
    "from random import uniform\n",
    "\n",
    "# Define the list of cities with their coordinates\n",
    "cities = {\n",
    "    \"New York\": (40.7128, -74.0060),\n",
    "    \"Los Angeles\": (34.0522, -118.2437),\n",
    "    \"Chicago\": (41.8781, -87.6298),\n",
    "    \"Houston\": (29.7604, -95.3698),\n",
    "    \"Phoenix\": (33.4484, -112.0740),\n",
    "    \"Philadelphia\": (39.9526, -75.1652),\n",
    "    \"San Antonio\": (29.4241, -98.4936),\n",
    "    \"San Diego\": (32.7157, -117.1611),\n",
    "    \"Dallas\": (32.7767, -96.7970),\n",
    "    \"San Jose\": (37.3382, -121.8863)\n",
    "}\n",
    "\n",
    "# Define the radius in kilometers\n",
    "radius_km = 50\n",
    "\n",
    "# Function to generate random coordinates within a radius around a city\n",
    "def generate_coordinates(city):\n",
    "    lat, lon = cities[city]\n",
    "    distance = uniform(0, radius_km)\n",
    "    bearing = uniform(0, 360)\n",
    "    point = geodesic(kilometers=distance).destination((lat, lon), bearing)\n",
    "    return point.latitude, point.longitude\n",
    "\n",
    "# Generate 5000 random coordinates for each city\n",
    "data = []\n",
    "for city, (lat, lon) in cities.items():\n",
    "    for _ in range(5000):\n",
    "        lat_new, lon_new = generate_coordinates(city)\n",
    "        data.append({\"City\": city, \"Latitude\": lat_new, \"Longitude\": lon_new})\n",
    "\n",
    "# Create a DataFrame\n",
    "df = pd.DataFrame(data)\n",
    "\n",
    "# Export DataFrame to Excel\n",
    "df.to_excel(\"coordinates.xlsx\", index=False)\n"
   ]
  },
  {
   "cell_type": "code",
   "execution_count": 2,
   "metadata": {},
   "outputs": [
    {
     "name": "stdout",
     "output_type": "stream",
     "text": [
      "Location information not found.\n"
     ]
    }
   ],
   "source": [
    "from pytube import YouTube\n",
    "import re\n",
    "\n",
    "# Download YouTube video\n",
    "def download_video(url, save_path):\n",
    "    yt = YouTube(url)\n",
    "    stream = yt.streams.get_highest_resolution()\n",
    "    stream.download(output_path=save_path)\n",
    "\n",
    "# Extract location from video description or comments\n",
    "def extract_location_from_text(text):\n",
    "    # Example regex pattern to find location-related keywords\n",
    "    pattern = r'\\b(location|place|where|coordinates):?\\s*([^\\n\\r]+)'\n",
    "    match = re.search(pattern, text, re.IGNORECASE)\n",
    "    if match:\n",
    "        return match.group(2)\n",
    "    else:\n",
    "        return None\n",
    "\n",
    "# Example usage\n",
    "video_url = 'https://youtu.be/MWrGuGDQXCE?si=IhA8mNYskDhVN8Oh'\n",
    "save_path = r\"D:\\_2.Programming\"\n",
    "download_video(video_url, save_path)\n",
    "\n",
    "# Extract location from video description or comments\n",
    "# Assuming you have access to the video description or comments as text\n",
    "video_description = \"Your video description text here\"\n",
    "location = extract_location_from_text(video_description)\n",
    "if location:\n",
    "    print(\"Location:\", location)\n",
    "else:\n",
    "    print(\"Location information not found.\")\n"
   ]
  },
  {
   "cell_type": "code",
   "execution_count": null,
   "metadata": {},
   "outputs": [],
   "source": [
    "import requests\n",
    "import json\n",
    "\n",
    "def get_hotels(api_key, location, radius=5000, keyword='hotel'):\n",
    "    url = 'https://maps.googleapis.com/maps/api/place/nearbysearch/json'\n",
    "    params = {\n",
    "        'key': api_key,\n",
    "        'location': location,\n",
    "        'radius': radius,\n",
    "        'keyword': keyword\n",
    "    }\n",
    "    response = requests.get(url, params=params)\n",
    "    if response.status_code == 200:\n",
    "        data = response.json()\n",
    "        return data['results']\n",
    "    else:\n",
    "        print(\"Error:\", response.status_code)\n",
    "        return None\n",
    "\n",
    "def main():\n",
    "    api_key = 'your_api_key'\n",
    "    location = '25.276987,55.296249'  # Dubai coordinates\n",
    "    radius = 5000  # 5 km radius around Dubai\n",
    "    keyword = 'hotel'\n",
    "    hotels = get_hotels(api_key, location, radius, keyword)\n",
    "    if hotels:\n",
    "        for hotel in hotels:\n",
    "            print(hotel['name'], hotel['vicinity'])\n",
    "    else:\n",
    "        print(\"No hotels found.\")\n",
    "\n",
    "if __name__ == \"__main__\":\n",
    "    main()\n"
   ]
  }
 ],
 "metadata": {
  "kernelspec": {
   "display_name": "Python 3",
   "language": "python",
   "name": "python3"
  },
  "language_info": {
   "codemirror_mode": {
    "name": "ipython",
    "version": 3
   },
   "file_extension": ".py",
   "mimetype": "text/x-python",
   "name": "python",
   "nbconvert_exporter": "python",
   "pygments_lexer": "ipython3",
   "version": "3.10.0"
  }
 },
 "nbformat": 4,
 "nbformat_minor": 2
}

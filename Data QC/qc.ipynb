{
 "cells": [
  {
   "cell_type": "code",
   "execution_count": null,
   "metadata": {},
   "outputs": [],
   "source": []
  },
  {
   "cell_type": "code",
   "execution_count": 4,
   "metadata": {},
   "outputs": [
    {
     "name": "stdout",
     "output_type": "stream",
     "text": [
      "Found 2 errors! Successfully saved quality checks as Excel file.\n"
     ]
    }
   ],
   "source": [
    "import pandas as pd\n",
    "import re\n",
    "\n",
    "# Define your pattern\n",
    "pattern = r'\\.{2,}|[*]{2,}'\n",
    "excel_path = r\"D:\\_1.Project\\ADM\\ADB\\Distress_Workbook\\E_Keycode.xlsx\"\n",
    "# Read the Excel file into a DataFrame\n",
    "df = pd.read_excel(excel_path, sheet_name=\"Sheet1\")\n",
    "\n",
    "# Initialize a list to store responses\n",
    "dic = []\n",
    "\n",
    "# Iterate over the rows of the DataFrame\n",
    "for index, row in df.iterrows():\n",
    "    quantity = str(row[\"COMMENT_1\"])  # Ensure quantity is treated as a string\n",
    "    object_id = row[\"OBJECTID\"]\n",
    "    event_desc = row[\"EVENT_DESC\"]\n",
    "    severity = row[\"COMMENT\"]\n",
    "    chainage_start = row[\"CHAINAGE_START\"]\n",
    "    chainage_end = row[\"CHAINAGE_END\"]\n",
    "    distress_length = row[\"LENGTH\"]\n",
    "    frame_start = row[\"FRAME_START\"]\n",
    "    frame_end = row[\"FRAME_END\"]\n",
    "    pav_remarks = row[\"COMMENT_2\"]\n",
    "\n",
    "    # Perform your checks as before, using DataFrame values\n",
    "    matches = re.findall(pattern, quantity)\n",
    "    if matches:\n",
    "        response = f\"check for quantity {quantity}\"\n",
    "        dic.append(response)\n",
    "    elif chainage_start == chainage_end and distress_length != 0:\n",
    "        response = f\"difference between chainage & distress length found: length: {distress_length}, chainage start: {chainage_start}, chainage end: {chainage_end}\"\n",
    "        dic.append(response)\n",
    "    # Add other checks here\n",
    "\n",
    "# Create a DataFrame from the list of responses\n",
    "df_response = pd.DataFrame(dic, columns=[\"remarks\"])\n",
    "\n",
    "# Export the DataFrame to an Excel file\n",
    "df_response.to_excel(r\"D:\\_1.Project\\ADM\\ADB\\Distress_Workbook\\qc.xlsx\", index=True, index_label=\"ser#\")\n",
    "print(f\"Found {len(dic)} errors! Successfully saved quality checks as Excel file.\")\n",
    "\n"
   ]
  },
  {
   "cell_type": "code",
   "execution_count": 5,
   "metadata": {},
   "outputs": [
    {
     "name": "stdout",
     "output_type": "stream",
     "text": [
      "Collecting pyodbc\n",
      "  Downloading pyodbc-5.1.0-cp310-cp310-win_amd64.whl.metadata (2.8 kB)\n",
      "Downloading pyodbc-5.1.0-cp310-cp310-win_amd64.whl (68 kB)\n",
      "   ---------------------------------------- 0.0/68.7 kB ? eta -:--:--\n",
      "   ---------------------------------------- 68.7/68.7 kB 3.9 MB/s eta 0:00:00\n",
      "Installing collected packages: pyodbc\n",
      "Successfully installed pyodbc-5.1.0\n",
      "Note: you may need to restart the kernel to use updated packages.\n"
     ]
    }
   ],
   "source": [
    "pip install pyodbc"
   ]
  },
  {
   "cell_type": "code",
   "execution_count": 6,
   "metadata": {},
   "outputs": [],
   "source": [
    "import pyodbc"
   ]
  }
 ],
 "metadata": {
  "kernelspec": {
   "display_name": "Python 3",
   "language": "python",
   "name": "python3"
  },
  "language_info": {
   "codemirror_mode": {
    "name": "ipython",
    "version": 3
   },
   "file_extension": ".py",
   "mimetype": "text/x-python",
   "name": "python",
   "nbconvert_exporter": "python",
   "pygments_lexer": "ipython3",
   "version": "3.10.0"
  }
 },
 "nbformat": 4,
 "nbformat_minor": 2
}
